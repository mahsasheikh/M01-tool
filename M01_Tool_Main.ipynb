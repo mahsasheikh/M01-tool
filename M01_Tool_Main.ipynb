{
  "cells": [
    {
      "cell_type": "markdown",
      "metadata": {
        "id": "view-in-github"
      },
      "source": [
        "<a href=\"https://colab.research.google.com/github/mahsasheikh/HybGen/blob/main/HybGen_Main.ipynb\" target=\"_parent\"><img src=\"https://colab.research.google.com/assets/colab-badge.svg\" alt=\"Open In Colab\"/></a>"
      ]
    },
    {
      "cell_type": "markdown",
      "metadata": {
        "id": "1jYp9cOwXEik"
      },
      "source": [
        "# **M01 Tool**\n",
        "A Jupyter Notebook based on AutoDock Vina 1.2.0 written to generate hybrid ligands and perform ✨**automated**✨ docking simulation.\n",
        "You can run cells one after another to perform your desired action."
      ]
    },
    {
      "cell_type": "markdown",
      "metadata": {
        "id": "TIQMDdlDo0LD"
      },
      "source": [
        "---\n",
        "---\n",
        "# **Setting up the Environment for Molecular Docking**\n",
        "\n",
        "Before starting, we need to install all the necessary software and dependecies to perform molecular docking.\n",
        "\n",
        "+ condacolab (https://github.com/conda-incubator/condacolab)\n",
        "+ MGLtools (https://ccsb.scripps.edu/mgltools/)\n",
        "+ AutoDock Vina (https://vina.scripps.edu/)\n",
        "+ biopython (https://biopython.org/)\n",
        "+ EasyDock (https://github.com/ci-lab-cz/easydock)\n",
        "+ PDBFixer (https://github.com/openmm/pdbfixer)\n",
        "+ RDKit (https://www.rdkit.org/)\n",
        "+ LABODOCK (https://github.com/RyanZR/labodock/tree/main)"
      ]
    },
    {
      "cell_type": "code",
      "execution_count": 1,
      "metadata": {
        "colab": {
          "base_uri": "https://localhost:8080/"
        },
        "id": "rLuphm7Tk3ku",
        "outputId": "eb61fc03-cd62-4fc1-f1d4-0edd5df04f07"
      },
      "outputs": [
        {
          "output_type": "stream",
          "name": "stdout",
          "text": [
            "⏬ Downloading https://github.com/conda-forge/miniforge/releases/download/23.11.0-0/Mambaforge-23.11.0-0-Linux-x86_64.sh...\n",
            "📦 Installing...\n",
            "📌 Adjusting configuration...\n",
            "🩹 Patching environment...\n",
            "⏲ Done in 0:00:14\n",
            "🔁 Restarting kernel...\n"
          ]
        }
      ],
      "source": [
        "# @title Initializing Condacolab (kernel will restart)\n",
        "\n",
        "!pip install -q condacolab\n",
        "import condacolab\n",
        "\n",
        "condacolab.install()"
      ]
    },
    {
      "cell_type": "code",
      "execution_count": 1,
      "metadata": {
        "id": "p0iucNpJhrjv",
        "colab": {
          "base_uri": "https://localhost:8080/"
        },
        "outputId": "5d7f578c-61f2-4003-a038-0e54059c350f"
      },
      "outputs": [
        {
          "output_type": "stream",
          "name": "stdout",
          "text": [
            "✨🍰✨ Everything looks OK!\n",
            "📦 Installing conda dependencies ...\n",
            "\n",
            "\n",
            "==> WARNING: A newer version of conda exists. <==\n",
            "    current version: 23.11.0\n",
            "    latest version: 24.11.3\n",
            "\n",
            "Please update conda by running\n",
            "\n",
            "    $ conda update -n base -c conda-forge conda\n",
            "\n",
            "\n"
          ]
        }
      ],
      "source": [
        "# @title Check that everything is fine\n",
        "\n",
        "import condacolab\n",
        "\n",
        "condacolab.check()\n",
        "\n",
        "print(\"📦 Installing conda dependencies ...\")\n",
        "!conda install -c conda-forge rdkit pdbfixer > /dev/null"
      ]
    },
    {
      "cell_type": "code",
      "execution_count": null,
      "metadata": {
        "colab": {
          "base_uri": "https://localhost:8080/"
        },
        "id": "3K6GbDXuu77o",
        "outputId": "d8446151-3a27-4315-e078-e0bf923c4d07"
      },
      "outputs": [
        {
          "output_type": "stream",
          "name": "stdout",
          "text": [
            "🔥 Installing PyTorch and PyG ...\n"
          ]
        }
      ],
      "source": [
        "# @title Installing dependencies and packages (this might take around 20 minutes)\n",
        "print(\"🔥 Installing PyTorch and PyG ...\")\n",
        "!pip install torch==1.13.1+cpu -f https://download.pytorch.org/whl/cpu/torch_stable.html > /dev/null\n",
        "!pip install torch-scatter -f https://data.pyg.org/whl/torch-1.13.1+cpu.html > /dev/null\n",
        "!pip install torch-sparse -f https://data.pyg.org/whl/torch-1.13.1+cpu.html > /dev/null\n",
        "!pip install torch-spline-conv torch-geometric==2.0.1 -f https://data.pyg.org/whl/torch-1.13.1+cpu.html > /dev/null\n",
        "!pip install cairosvg svgutils molvs > /dev/null\n",
        "# Install other dependencies\n",
        "!pip install rdkit-pypi\n",
        "!pip install Bio\n",
        "!pip install meeko\n",
        "!pip install paramiko\n",
        "!pip install easydock\n",
        "print(\"✔️ Installing pkasolver package and its dependencies ...\")\n",
        "!pip install -q git+https://github.com/mayrf/pkasolver.git > /dev/null\n",
        "print(\"✔️ Ensuring cffi is properly installed ...\")\n",
        "!pip uninstall -y cffi\n",
        "!pip uninstall -y _cffi_backend\n",
        "!pip install cffi==1.17.1\n",
        "\n",
        "print(\"🎉 Done!\")"
      ]
    },
    {
      "cell_type": "code",
      "execution_count": null,
      "metadata": {
        "id": "78J0jA1fxtPB"
      },
      "outputs": [],
      "source": [
        "# @title Setup AutoDock Vina\n",
        "!wget https://github.com/ccsb-scripps/AutoDock-Vina/releases/download/v1.2.0/vina_1.2.0_linux_x86_64 -O vina\n",
        "!chmod u+x vina"
      ]
    },
    {
      "cell_type": "code",
      "execution_count": null,
      "metadata": {
        "id": "LkAAJy6f8ZLD"
      },
      "outputs": [],
      "source": [
        "# @title **Import Python Modules**\n",
        "\n",
        "# Standard library imports\n",
        "import contextlib\n",
        "import csv\n",
        "import os\n",
        "import random\n",
        "import shutil\n",
        "import sys\n",
        "import tempfile\n",
        "import xml.etree.ElementTree as ET\n",
        "from itertools import combinations, permutations\n",
        "\n",
        "# Third-party library imports\n",
        "import numpy as np\n",
        "import pandas as pd\n",
        "import requests\n",
        "from Bio import PDB\n",
        "from Bio.PDB import PDBIO, PDBParser\n",
        "\n",
        "# Custom library imports\n",
        "from easydock import preparation_for_docking, protonation\n",
        "from IPython.display import Image, display\n",
        "from openmm.app import PDBFile\n",
        "from pdbfixer import PDBFixer\n",
        "from rdkit import Chem, RDLogger\n",
        "from rdkit.Chem import AllChem, Draw, rdChemReactions\n",
        "from rdkit.Chem.rdMolDescriptors import (\n",
        "    CalcCrippenDescriptors,\n",
        "    CalcExactMolWt,\n",
        "    CalcNumLipinskiHBA,\n",
        "    CalcNumLipinskiHBD,\n",
        ")\n",
        "\n",
        "\n",
        "# Capture python output with context manager\n",
        "class SuppressOutput:\n",
        "    \"\"\"Context manager to suppress stdout during function calls.\"\"\"\n",
        "\n",
        "    def __enter__(self):\n",
        "        self._original_stdout = sys.stdout\n",
        "        sys.stdout = open(os.devnull, \"w\")\n",
        "\n",
        "    def __exit__(self, exc_type, exc_val, exc_tb):\n",
        "        sys.stdout.close()\n",
        "        sys.stdout = self._original_stdout\n",
        "\n",
        "\n",
        "# Define common variables for PDB operations\n",
        "pdb_io = PDBIO()\n",
        "pdb_parser = PDBParser()\n",
        "\n",
        "\n",
        "def setup_environment():\n",
        "    \"\"\"Print environment setup confirmation.\"\"\"\n",
        "    print(\"> Installation done\")\n",
        "    print(\"> Import done\")\n",
        "    print(\"> Environment ready for docking\")\n",
        "\n",
        "\n",
        "setup_environment()"
      ]
    },
    {
      "cell_type": "code",
      "execution_count": null,
      "metadata": {
        "id": "DHO1-z3s8sGE"
      },
      "outputs": [],
      "source": [
        "# @title **Setup alias for Vina**\n",
        "\n",
        "%alias vina /content/vina\n",
        "\n",
        "print(\"> Alias '%Vina' created\")\n"
      ]
    },
    {
      "cell_type": "markdown",
      "metadata": {
        "id": "_9jcs5m1HZrt"
      },
      "source": [
        "---\n",
        "---\n",
        "# **Adding Ligand and Receptor to the Workflow**\n",
        "\n",
        "The first step in a ligand and receptor docking process is adding or importing your considered molecules to the workflow. This tool allows you to add ligands in SMILES format. This structure can be used directly for ligand-needed preparations before docking or modified by adding new atoms or amino acids in the ligand builder tool.\n",
        "\n",
        "Receptors can be added just by their PDB or UniProt ID. You can also select a specific chain of the receptor macromolecule."
      ]
    },
    {
      "cell_type": "code",
      "execution_count": null,
      "metadata": {
        "id": "BJRmNHvyx3_2"
      },
      "outputs": [],
      "source": [
        "SMILES = \"CC(ON(C(C)(C)C)C(C)(C)C)C1=CC=C(N)C=C1\"  # @param {type:\"string\"}\n",
        "PDB_ID = \"\"  # @param {type:\"string\"}\n",
        "chain_in_PDB = None  # @param\n",
        "uniprot = \"q9y006\"  # @param {type:\"string\"}"
      ]
    },
    {
      "cell_type": "markdown",
      "metadata": {
        "id": "Fy3CjmPm_Nkx"
      },
      "source": [
        "---\n",
        "---\n",
        "# **Generating the Hybrids**\n",
        "\n",
        "The first step in this study is to have a set of structures of a given ligand, hybridized with proper amino acids. We utilize the RDKit library for molecular manipulations and EasyDock for docking simulations. The core component of this method is the LigandBuilder class, which handles the creation of peptide bonds, removal of extra hydrogens, and the generation of ligands.\n",
        "\n",
        "\n",
        "*This step is specifically designed for generating hybrids. If you're just interested in automatic docking feature, skip next three cells.*\n",
        "\n",
        "# **View Primary Ligand Structure**\n",
        "\n",
        "By running the next cell, you can view your ligand structure submitted in the last step as SMILES. Based on atom numbers, you can choose the connection point. That atom will bond to your favorite amino acids or another molecule you prefer, in the next step.\n",
        "\n",
        "just keep in mind this tool connects molecules based on peptide amide bonds. You should provide structures with proper atom groups for generating these bonds such as carboxyl or amino groups."
      ]
    },
    {
      "cell_type": "code",
      "execution_count": null,
      "metadata": {
        "id": "sXsDpeJ-ufQ7"
      },
      "outputs": [],
      "source": [
        "# @title **Choosing the Connection Point**\n",
        "\n",
        "\n",
        "def get_all_atoms_in_molecule(molecule):\n",
        "    \"\"\"\n",
        "    Get all atoms in the input molecule.\n",
        "\n",
        "    This should be done before anything to define your connection point.\n",
        "\n",
        "    Returns:\n",
        "        IPython.core.display.Image object: Image displaying the molecule with atom indices.\n",
        "    \"\"\"\n",
        "    # Create a drawing object with a specific size\n",
        "    d = Draw.MolDraw2DCairo(800, 800)\n",
        "    # Set the drawing options to show atom indices\n",
        "    d.drawOptions().addAtomIndices = True\n",
        "    # Draw the molecule\n",
        "    d.DrawMolecule(molecule)\n",
        "    d.FinishDrawing()\n",
        "    # Get the image data\n",
        "    data = d.GetDrawingText()\n",
        "    # Display the image in the notebook\n",
        "    return Image(data=data)\n",
        "\n",
        "\n",
        "# Create a molecule from SMILES\n",
        "molecule = Chem.MolFromSmiles(SMILES)\n",
        "# Display the molecule with atom indices\n",
        "display(get_all_atoms_in_molecule(molecule))\n",
        "\n",
        "ligand_smiles = []"
      ]
    },
    {
      "cell_type": "markdown",
      "metadata": {
        "id": "tCy_mDY0QKsf"
      },
      "source": [
        "---\n",
        "---\n",
        "# **Submit Ligand**\n",
        "\n",
        "Here you can submit ligand structure to the docking process and skip ligand builder steps. Just run this cell and go straight to the \"Docking Folders\" cell.\n"
      ]
    },
    {
      "cell_type": "code",
      "execution_count": 8,
      "metadata": {
        "id": "QWMifgAsm08q"
      },
      "outputs": [],
      "source": [
        "if not ligand_smiles:\n",
        "    ligand_smiles = [SMILES]"
      ]
    },
    {
      "cell_type": "markdown",
      "metadata": {
        "id": "-aTWnSOcINqh"
      },
      "source": [
        "---\n",
        "---\n",
        "# **Ligand Builder Settings**\n",
        "\n",
        "In the connection site text box, you can enter the atom number to connect different molecules based on the ligand structure provided before.\n",
        "Each amino acid has two stereoisomers, mirror images of one another except for glycine. You can enter the amino acid sequence as any of these two kinds separately by their one-letter symbols.\n",
        "The next step, lets you choose whether the amino acid chain should make a bond from its C-terminal (carboxyl group) or its N-terminal (amino group). You can set this parameter just by entering C or N.\n",
        "The last step will provide an option for considering adding molecules to the ligands besides amino acids. Just keep in mind that this molecule could make a peptide bond.\n"
      ]
    },
    {
      "cell_type": "code",
      "execution_count": 9,
      "metadata": {
        "id": "ty89NoYhDbdj"
      },
      "outputs": [],
      "source": [
        "# note that you either can have one non-peptide entry in the \"other molecules\" or several peptides in multiple sections\n",
        "connection_site = 16  # @param\n",
        "# choose N or C terminal of the peptides for connection point\n",
        "# note that the connection site and the terminal should make chemical sense\n",
        "terminal = \"C\"  # @param {type:\"string\"}\n",
        "L_sequence = \"F\"  # @param {type:\"string\"}\n",
        "D_sequence = \"\"  # @param {type:\"string\"}\n",
        "# provide a list\n",
        "other_molecules = [\"OC(OC(C)(C)C)=O\"]  # @param"
      ]
    },
    {
      "cell_type": "markdown",
      "metadata": {
        "id": "xEdu7NX3Je-N"
      },
      "source": [
        "---\n",
        "---\n",
        "# **Building Ligand**\n",
        "\n",
        "The code based on variables and their values defined before, will generate ligand structures. The output will be in SMILES and can be used in docking process."
      ]
    },
    {
      "cell_type": "code",
      "execution_count": 12,
      "metadata": {
        "colab": {
          "base_uri": "https://localhost:8080/"
        },
        "id": "7l8TVy75C97L",
        "outputId": "e3872274-4931-4f62-862a-8782d479f1d3"
      },
      "outputs": [
        {
          "output_type": "stream",
          "name": "stdout",
          "text": [
            "New ligand SMILES generated.\n",
            "New ligand SMILES generated.\n",
            "New ligand SMILES generated.\n",
            "3 ligands generated.\n",
            "CC(ON(C(C)(C)C)C(C)(C)C)c1ccc([N]C(=O)[C@@H]([N])Cc2ccccc2)cc1\n",
            "CC(ON(C(C)(C)C)C(C)(C)C)c1ccc([N]C(=O)OC(C)(C)C)cc1\n",
            "CC(ON(C(C)(C)C)C(C)(C)C)c1ccc([N]C(=O)[C@H](Cc2ccccc2)[N]C(=O)OC(C)(C)C)cc1\n"
          ]
        }
      ],
      "source": [
        "# Suppress RDKit logging\n",
        "logger = RDLogger.logger()\n",
        "logger.setLevel(RDLogger.CRITICAL)\n",
        "\n",
        "\n",
        "class LigandBuilder:\n",
        "    def __init__(self):\n",
        "        self.ligands = []\n",
        "        self.amino_acid_arrangements = []\n",
        "        self.molecule = None\n",
        "\n",
        "    def create_peptide_bond(self, mol1, mol2):\n",
        "        \"\"\"\n",
        "        Create a peptide bond between two molecules using predefined SMARTS patterns.\n",
        "\n",
        "        Args:\n",
        "            mol1: First molecule (RDKit Mol object).\n",
        "            mol2: Second molecule (RDKit Mol object).\n",
        "\n",
        "        Returns:\n",
        "            RDKit Mol object representing the combined molecule with a peptide bond, or None if unsuccessful.\n",
        "        \"\"\"\n",
        "        reactions_with_OH = [\n",
        "            (\n",
        "                \"[C:1](=[O:2])[OH:3]\",\n",
        "                \"[N:4]\",\n",
        "                \"[C:1](=[O:2])[OH:3].[N:4]>>[C:1](=[O:2])[N:4]\",\n",
        "            ),\n",
        "            (\n",
        "                \"[N:4]\",\n",
        "                \"[C:1](=[O:2])[OH:3]\",\n",
        "                \"[N:4].[C:1](=[O:2])[OH:3]>>[C:1](=[O:2])[N:4]\",\n",
        "            ),\n",
        "        ]\n",
        "        reactions_without_OH = [\n",
        "            (\n",
        "                \"[N:4]\",\n",
        "                \"[C:1](=[O:2])[O:3]\",\n",
        "                \"[N:4].[C:1](=[O:2])[O:3]>>[C:1](=[O:2])[N:4]\",\n",
        "            ),\n",
        "            (\n",
        "                \"[C:1](=[O:2])[O:3]\",\n",
        "                \"[N:4]\",\n",
        "                \"[C:1](=[O:2])[O:3].[N:4]>>[C:1](=[O:2])[N:4]\",\n",
        "            ),\n",
        "        ]\n",
        "\n",
        "        try:\n",
        "            for smarts1, smarts2, rxn_smarts in reactions_with_OH:\n",
        "                if mol1.HasSubstructMatch(\n",
        "                    Chem.MolFromSmarts(smarts1)\n",
        "                ) and mol2.HasSubstructMatch(Chem.MolFromSmarts(smarts2)):\n",
        "                    rxn = rdChemReactions.ReactionFromSmarts(rxn_smarts)\n",
        "                    products = [p[0] for p in rxn.RunReactants((mol1, mol2)) if p]\n",
        "                    if products:\n",
        "                        return products[0]\n",
        "\n",
        "            for smarts1, smarts2, rxn_smarts in reactions_without_OH:\n",
        "                if mol1.HasSubstructMatch(\n",
        "                    Chem.MolFromSmarts(smarts1)\n",
        "                ) and mol2.HasSubstructMatch(Chem.MolFromSmarts(smarts2)):\n",
        "                    rxn = rdChemReactions.ReactionFromSmarts(rxn_smarts)\n",
        "                    products = [p[0] for p in rxn.RunReactants((mol1, mol2)) if p]\n",
        "                    if products:\n",
        "                        return products[0]\n",
        "\n",
        "            print(\"No suitable reaction found for the given molecules.\")\n",
        "            return None\n",
        "        except Exception as e:\n",
        "            print(f\"Error creating peptide bond: {e}\")\n",
        "            return None\n",
        "\n",
        "    def add_hydrogens_and_sanitize(self, mol):\n",
        "        \"\"\"\n",
        "        Add hydrogens and sanitize a molecule.\n",
        "        \"\"\"\n",
        "        try:\n",
        "            mol = AllChem.AddHs(mol)\n",
        "            Chem.SanitizeMol(mol)\n",
        "            return mol\n",
        "        except Exception as e:\n",
        "            print(f\"Error adding hydrogens or sanitizing molecule: {e}\")\n",
        "            return None\n",
        "\n",
        "    def remove_extra_hydrogens(self, mol):\n",
        "        \"\"\"\n",
        "        Remove unnecessary hydrogens from the molecule and adjust nitrogen atoms.\n",
        "        \"\"\"\n",
        "        mol = Chem.RemoveHs(mol, sanitize=False)\n",
        "\n",
        "        for atom in mol.GetAtoms():\n",
        "            if atom.GetSymbol() == \"N\":\n",
        "                valence = atom.GetTotalValence()\n",
        "                explicit_hs_needed = max(3 - valence, 0)\n",
        "                atom.SetNumExplicitHs(explicit_hs_needed)\n",
        "                atom.SetNumRadicalElectrons(0)\n",
        "                atom.SetNoImplicit(True)\n",
        "\n",
        "        return mol\n",
        "\n",
        "    def handle_N_heterocycles(self, mol):\n",
        "        # Define SMARTS patterns and their corresponding nitrogen indices\n",
        "        patterns = [\n",
        "            (\n",
        "                Chem.MolFromSmarts(\n",
        "                    \"[#6]12:[#6]:[#6]:[#6]:[#6]:[#6]:1:[#6]:[#6]:[#7]:2\"\n",
        "                ),\n",
        "                -1,\n",
        "            ),\n",
        "            (Chem.MolFromSmarts(\"[#6]1:[#7]:[#6]:[#7]:[#6]:1\"), -2),\n",
        "            (Chem.MolFromSmarts(\"[#6]1:[#6]:[#7]:[#6]:[#6]:1\"), -3),\n",
        "            (\n",
        "                Chem.MolFromSmarts(\n",
        "                    \"[#6]12:[#7]:[#6]:[#7]:[#6]:[#6]:1:[#7]:[#6]:[#7]:2\"\n",
        "                ),\n",
        "                -1,\n",
        "            ),\n",
        "            (Chem.MolFromSmarts(\"[#6]1:[#7]:[#7]:[#7]:[#6]:1\"), -2),\n",
        "            (Chem.MolFromSmarts(\"[#6]1:[#7]:[#7]:[#7]:[#7]:1\"), -1),\n",
        "            (Chem.MolFromSmarts(\"[#6]1:[#6]:[#7]:[#7]:[#6]:1\"), -2),\n",
        "        ]\n",
        "\n",
        "        for pattern, nitrogen_index_offset in patterns:\n",
        "            if mol.HasSubstructMatch(pattern):\n",
        "                matches = mol.GetSubstructMatches(pattern)\n",
        "                for match in matches:\n",
        "                    # Get the nitrogen atom index from the match\n",
        "                    nitrogen_index = match[\n",
        "                        nitrogen_index_offset\n",
        "                    ]  # Get the nitrogen atom index\n",
        "                    # Add one explicit hydrogen to the nitrogen atom\n",
        "                    atom = mol.GetAtomWithIdx(nitrogen_index)\n",
        "                    if atom.GetTotalDegree() == 2:\n",
        "                        atom.SetNumExplicitHs(1)\n",
        "\n",
        "        return mol\n",
        "\n",
        "    def input_amino_acids(self, l_sequence, d_sequence, other_aminoacids):\n",
        "        \"\"\"\n",
        "        Create molecules from input amino acids and generate all peptide bond combinations.\n",
        "\n",
        "        Args:\n",
        "            l_sequence (str): L-amino acids sequence.\n",
        "            d_sequence (str): D-amino acids sequence.\n",
        "            other_aminoacids (list): List of additional amino acids or molecules in SMILES format.\n",
        "        \"\"\"\n",
        "        l_mols = [\n",
        "            Chem.rdmolfiles.MolFromFASTA(f\">{aa.upper()}\\n{aa.upper()}\")\n",
        "            for aa in l_sequence\n",
        "        ]\n",
        "        d_mols = [\n",
        "            Chem.rdmolfiles.MolFromFASTA(f\">{aa.lower()}\\n{aa.lower()}\", flavor=1)\n",
        "            for aa in d_sequence\n",
        "        ]\n",
        "        other_mols = [\n",
        "            self.add_hydrogens_and_sanitize(Chem.MolFromSmiles(n))\n",
        "            for n in other_aminoacids\n",
        "        ]\n",
        "\n",
        "        all_mols = l_mols + d_mols + other_mols\n",
        "        unique_smiles = set()\n",
        "\n",
        "        for r in range(1, len(all_mols) + 1):\n",
        "            for combo in combinations(all_mols, r):\n",
        "                for perm in permutations(combo):\n",
        "                    peptide = perm[0]\n",
        "                    for mol in perm[1:]:\n",
        "                        peptide = self.create_peptide_bond(peptide, mol)\n",
        "\n",
        "                    try:\n",
        "                        Chem.SanitizeMol(peptide)\n",
        "                        peptide = Chem.AddHs(peptide)\n",
        "                        smiles = Chem.MolToSmiles(peptide, isomericSmiles=True)\n",
        "                        if smiles not in unique_smiles:\n",
        "                            unique_smiles.add(smiles)\n",
        "                            self.amino_acid_arrangements.append(peptide)\n",
        "                    except Exception:\n",
        "                        print(\"Finding right molecule combinations...\")\n",
        "\n",
        "    def input_molecule(self, molecule_smiles):\n",
        "        \"\"\"\n",
        "        Input a molecule from its SMILES string and prepare it.\n",
        "\n",
        "        Args:\n",
        "            molecule_smiles (str): SMILES string.\n",
        "        \"\"\"\n",
        "        try:\n",
        "            self.molecule = Chem.MolFromSmiles(molecule_smiles)\n",
        "            Chem.SanitizeMol(self.molecule)\n",
        "            AllChem.Compute2DCoords(self.molecule)\n",
        "        except Exception as e:\n",
        "            raise ValueError(f\"Error reading SMILES string: {e}\")\n",
        "\n",
        "    def find_connection_points(self, molecule, smarts_pattern=\"[NH2,NH]\"):\n",
        "        \"\"\"\n",
        "        Find all atom indices matching the SMARTS pattern.\n",
        "\n",
        "        Args:\n",
        "            molecule: Molecule to search.\n",
        "            smarts_pattern: SMARTS pattern to match.\n",
        "\n",
        "        Returns:\n",
        "            List of atom indices.\n",
        "        \"\"\"\n",
        "        query = Chem.MolFromSmarts(smarts_pattern)\n",
        "        if not query:\n",
        "            raise ValueError(f\"Invalid SMARTS pattern: {smarts_pattern}\")\n",
        "\n",
        "        return [match[0] for match in molecule.GetSubstructMatches(query)]\n",
        "\n",
        "    def add_cs_atom(self, connection_site):\n",
        "        \"\"\"\n",
        "        Add a Cesium atom to the molecule at the specified connection site.\n",
        "        \"\"\"\n",
        "        Chem.SanitizeMol(self.molecule)\n",
        "        edit_mol = Chem.EditableMol(self.molecule)\n",
        "        edit_mol.AddAtom(Chem.Atom(55))  # Cesium (Cs)\n",
        "        edit_mol.AddBond(\n",
        "            connection_site, self.molecule.GetNumAtoms(), Chem.BondType.SINGLE\n",
        "        )\n",
        "        self.molecule = edit_mol.GetMol()\n",
        "        Chem.RemoveHs(self.molecule, sanitize=False)\n",
        "        return self.molecule\n",
        "\n",
        "    def generate_ligands(self, connection_site, terminal):\n",
        "        \"\"\"\n",
        "        Generate ligands by combining amino acids and input molecule.\n",
        "\n",
        "        Args:\n",
        "            connection_site: Atom index for ligand attachment.\n",
        "            terminal: 'C' or 'N' indicating attachment point.\n",
        "        \"\"\"\n",
        "        if not hasattr(self, \"amino_acid_arrangements\") or not hasattr(\n",
        "            self, \"molecule\"\n",
        "        ):\n",
        "            raise ValueError(\n",
        "                \"Input amino acids and molecule before generating ligands.\"\n",
        "            )\n",
        "\n",
        "        if terminal == \"C\":\n",
        "            self.ligands = [\n",
        "                Chem.ReplaceSubstructs(\n",
        "                    arr,\n",
        "                    Chem.MolFromSmarts(\"[OH]\"),\n",
        "                    Chem.Mol(self.molecule),\n",
        "                    replacementConnectionPoint=connection_site,\n",
        "                )\n",
        "                for arr in self.amino_acid_arrangements\n",
        "            ]\n",
        "        elif terminal == \"N\":\n",
        "            modified_ligand = self.add_cs_atom(connection_site)\n",
        "            self.ligands = []\n",
        "            for arrangement in self.amino_acid_arrangements:\n",
        "                for connection_point in self.find_connection_points(arrangement):\n",
        "                    self.ligands.append(\n",
        "                        Chem.ReplaceSubstructs(\n",
        "                            Chem.Mol(modified_ligand),\n",
        "                            Chem.MolFromSmarts(\"[Cs]\"),\n",
        "                            arrangement,\n",
        "                            replacementConnectionPoint=connection_point,\n",
        "                        )\n",
        "                    )\n",
        "        else:\n",
        "            raise ValueError(\"The argument terminal should be either 'C' or 'N'.\")\n",
        "\n",
        "        self.ligand_smiles = []\n",
        "        for ligand_tuple in self.ligands:\n",
        "            for ligand in ligand_tuple:\n",
        "                ligand = self.remove_extra_hydrogens(ligand)\n",
        "                ligand = self.handle_N_heterocycles(ligand)\n",
        "                Chem.SanitizeMol(ligand)\n",
        "                smiles = Chem.MolToSmiles(ligand)\n",
        "                print(\"New ligand SMILES generated.\")\n",
        "                self.ligand_smiles.append(smiles)\n",
        "\n",
        "        return self.ligand_smiles\n",
        "\n",
        "\n",
        "# Example usage\n",
        "builder = LigandBuilder()\n",
        "\n",
        "# Input data\n",
        "builder.input_amino_acids(L_sequence, D_sequence, other_molecules)\n",
        "builder.input_molecule(SMILES)\n",
        "\n",
        "# Generate ligands\n",
        "ligand_smiles = builder.generate_ligands(connection_site, terminal)\n",
        "print(f\"{len(ligand_smiles)} ligands generated.\")\n",
        "\n",
        "# Writing the SMILES strings to a CSV file\n",
        "with open(\"generated_ligands.csv\", \"w\", newline=\"\") as csvfile:\n",
        "    fieldnames = [\"SMILES\"]  # Define the column name\n",
        "    writer = csv.DictWriter(csvfile, fieldnames=fieldnames)\n",
        "\n",
        "    writer.writeheader()  # Write the header\n",
        "\n",
        "    for smiles in ligand_smiles:\n",
        "        writer.writerow({\"SMILES\": smiles})  # Write each SMILES as a row\n",
        "        print(smiles)"
      ]
    },
    {
      "cell_type": "markdown",
      "metadata": {
        "id": "ydJ2BHODJyJm"
      },
      "source": [
        "---\n",
        "---\n",
        "# **Building Ligand**\n",
        "\n",
        "The code based on variables and their values determined before, will generate ligand structures. The output will be in SMILES and can be used in docking process."
      ]
    },
    {
      "cell_type": "code",
      "execution_count": null,
      "metadata": {
        "colab": {
          "base_uri": "https://localhost:8080/",
          "height": 917
        },
        "id": "fPhJbMT2H0GS",
        "outputId": "f73999da-1a32-4b34-b2b0-64fbb521ab7f"
      },
      "outputs": [
        {
          "output_type": "execute_result",
          "data": {
            "text/plain": [
              "<PIL.PngImagePlugin.PngImageFile image mode=RGB size=900x900>"
            ],
            "image/png": "[encoded data removed]",
            "image/jpeg": "[encoded data removed]"
          },
          "metadata": {},
          "execution_count": 26
        }
      ],
      "source": [
        "# @title **display an example**\n",
        "\n",
        "# Select a random SMILE from the list\n",
        "random_smile = random.choice(ligand_smiles)\n",
        "\n",
        "# Create a molecule object from the SMILE\n",
        "molecule = Chem.MolFromSmiles(random_smile)\n",
        "\n",
        "# Display the molecule\n",
        "Draw.MolToImage(molecule, size=(900, 900))"
      ]
    },
    {
      "cell_type": "markdown",
      "source": [
        "\n",
        "---\n",
        "\n",
        "# **Uploading a CSV of Selected Ligands (Optional)**\n",
        "\n",
        "If you want to perform the docking process on a specific set of molecules, you can upload a CSV file containing only your selected ligands. The file should include the ligands' SMILES strings. Molecules from the uploaded file will be docked instead of the generated ones.\n",
        "\n",
        "Simply drag and drop your file into the main **Files** section and insert the **\"file name.csv\"** into the cell below.\n",
        "\n",
        "\n",
        "![image.png](data:image/png;base64,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)"
      ],
      "metadata": {
        "id": "-EHjrUaVX99T"
      }
    },
    {
      "cell_type": "code",
      "source": [
        "to_be_docked = \"generated_ligands.csv\"  # @param {type:\"string\"}\n",
        "if to_be_docked:\n",
        "    ligand_smiles = pd.read_csv(to_be_docked, header=0).iloc[:, 0].tolist()  # Read the first column, excluding the header"
      ],
      "metadata": {
        "id": "O4vf6jdeX-NE"
      },
      "execution_count": 15,
      "outputs": []
    },
    {
      "cell_type": "markdown",
      "metadata": {
        "id": "IGfEWLYcSnuY"
      },
      "source": [
        "---\n",
        "---\n",
        "# **Docking Folders**\n",
        "\n",
        "This cell based on UniProt or PDB ID will make folders for keeping necessary files during docking.\n"
      ]
    },
    {
      "cell_type": "code",
      "execution_count": null,
      "metadata": {
        "colab": {
          "base_uri": "https://localhost:8080/"
        },
        "id": "CF46Y2BKVd3-",
        "outputId": "3570da12-e372-4998-f3a5-ee434e901bc8"
      },
      "outputs": [
        {
          "output_type": "stream",
          "name": "stdout",
          "text": [
            "> /content/q9y006_docking already exists\n",
            "> /content/q9y006_docking/protein already exists\n",
            "> /content/q9y006_docking/ligand already exists\n",
            "> /content/q9y006_docking/docking already exists\n"
          ]
        }
      ],
      "source": [
        "if uniprot:\n",
        "    Jobname = f\"{uniprot}_docking\"\n",
        "else:\n",
        "    Jobname = f\"{PDB_ID}_docking\"\n",
        "dir = os.path.abspath(\".\")\n",
        "work_dir = os.path.join(dir, Jobname)\n",
        "protein_folder = os.path.join(work_dir, \"protein\")\n",
        "ligand_folder = os.path.join(work_dir, \"ligand\")\n",
        "experimental_folder = os.path.join(work_dir, \"experimental\")\n",
        "docking_folder = os.path.join(work_dir, \"docking\")\n",
        "\n",
        "\n",
        "# Create folder if folder have not exists\n",
        "folder = [work_dir, protein_folder, ligand_folder, docking_folder]\n",
        "for f in folder:\n",
        "    if os.path.exists(f):\n",
        "        print(\"> %s already exists\" % f)\n",
        "    if not os.path.exists(f):\n",
        "        os.mkdir(f)\n",
        "        print(\"> %s was successfully created\" % f)"
      ]
    },
    {
      "cell_type": "markdown",
      "metadata": {
        "id": "xwfKXQVbuvcv"
      },
      "source": [
        "---\n",
        "---\n",
        "# **Preparing the Protein**\n",
        "\n",
        "The first step in docking is to have a structure of a given target protein. While in some cases a high-quality comparative model will be used, most cases start with an experimentally (X-ray, NMR, cryoEM) solved three-dimensional structure. We can either use uniprot API to select the PDB file and chain or enter them directly.\n",
        "In these cases, a given target protein structure can be downloaded with BioPython using a given accession ID.  We can directly download this structure in `.pdb` file format.\n",
        "\n",
        "This cell acquires the receptor structure file from databases across the web and prepares it for docking."
      ]
    },
    {
      "cell_type": "code",
      "execution_count": null,
      "metadata": {
        "colab": {
          "base_uri": "https://localhost:8080/"
        },
        "id": "DO8IOLRyvT5g",
        "outputId": "08670615-db78-44ba-c2fa-092904a5c2b0"
      },
      "outputs": [
        {
          "output_type": "stream",
          "name": "stdout",
          "text": [
            "Processing PDB ID 3QVC with chain A...\n",
            "Structure exists: '/content/q9y006_docking/protein/pdbs/pdb3qvc.ent' \n",
            "Extracting chain A from 3QVC...\n",
            "Other chain removed ...\n",
            "Het atoms removed and centroid added...\n",
            "PDB file fixed in /content/q9y006_docking/protein/receptor_3QVC_A-cl-fixed.pdb\n"
          ]
        }
      ],
      "source": [
        "# get pdb\n",
        "class SelectChains(PDB.Select):\n",
        "    \"\"\"Accepts or rejects chains based on their chain IDs.\"\"\"\n",
        "\n",
        "    def __init__(self, chain_letters):\n",
        "        \"\"\"Initialize with a list of chain IDs to accept.\"\"\"\n",
        "        self.chain_letters = chain_letters\n",
        "\n",
        "    def accept_chain(self, chain):\n",
        "        \"\"\"Accepts a chain if its ID is in the list of accepted IDs.\"\"\"\n",
        "        return chain.get_id() in self.chain_letters\n",
        "\n",
        "\n",
        "class GetPDB:\n",
        "    \"\"\"Class for fetching and processing PDB files.\"\"\"\n",
        "\n",
        "    def __init__(self, directory, uniprot_id=None, pdb_id=None, chain=None):\n",
        "        \"\"\"Initialize with directory path and optional UniProt ID, PDB ID, and chain ID.\"\"\"\n",
        "        self.uniprot_id = uniprot_id\n",
        "        self.pdb_id = pdb_id\n",
        "        self.chain = chain\n",
        "        self.directory = directory\n",
        "        self.PDB_DOWNLOAD_PATH = os.path.join(directory, \"pdbs\")\n",
        "        self.CLEAN_PDBS_PATH = directory\n",
        "        os.makedirs(self.PDB_DOWNLOAD_PATH, exist_ok=True)\n",
        "        os.makedirs(self.CLEAN_PDBS_PATH, exist_ok=True)\n",
        "\n",
        "    def fetch_uniprot_data(self):\n",
        "        \"\"\"Fetch UniProt data for a given UniProt ID.\"\"\"\n",
        "        if not self.uniprot_id:\n",
        "            return None\n",
        "        url = f\"https://www.uniprot.org/uniprot/{self.uniprot_id}.xml\"\n",
        "        response = requests.get(url)\n",
        "        if response.status_code == 200:\n",
        "            return response.text\n",
        "        else:\n",
        "            print(f\"Error fetching data from UniProt: {response.status_code}\")\n",
        "            return None\n",
        "\n",
        "    def parse_pdb_entries(self, xml_data):\n",
        "        \"\"\"Parse PDB entries from UniProt XML data.\"\"\"\n",
        "        root = ET.fromstring(xml_data)\n",
        "        pdbs = []\n",
        "        for db_ref in root.findall(\n",
        "            \".//{http://uniprot.org/uniprot}dbReference[@type='PDB']\"\n",
        "        ):\n",
        "            pdb = db_ref.attrib[\"id\"]\n",
        "            method_element = db_ref.find(\n",
        "                \".//{http://uniprot.org/uniprot}property[@type='method']\"\n",
        "            )\n",
        "            resolution_element = db_ref.find(\n",
        "                \".//{http://uniprot.org/uniprot}property[@type='resolution']\"\n",
        "            )\n",
        "            chains_element = db_ref.find(\n",
        "                \".//{http://uniprot.org/uniprot}property[@type='chains']\"\n",
        "            )\n",
        "            if method_element is not None and resolution_element is not None:\n",
        "                method = method_element.attrib[\"value\"]\n",
        "                resolution = float(resolution_element.attrib[\"value\"].split()[0])\n",
        "                chain_details = self.parse_chain_details(chains_element)\n",
        "                if chain_details:\n",
        "                    chain_details.sort(key=lambda x: x[1], reverse=True)\n",
        "                    pdbs.append(\n",
        "                        (\n",
        "                            pdb,\n",
        "                            chain_details[0][0],\n",
        "                            chain_details[0][1],\n",
        "                            resolution,\n",
        "                            method,\n",
        "                        )\n",
        "                    )\n",
        "                else:\n",
        "                    pdbs.append((pdb, \"NA\", 0, resolution, method))\n",
        "        return pdbs\n",
        "\n",
        "    def parse_chain_details(self, chains_element):\n",
        "        \"\"\"Parse chain details from UniProt XML data.\"\"\"\n",
        "        chain_details = []\n",
        "        if chains_element is not None:\n",
        "            chains_info = chains_element.attrib[\"value\"].split(\",\")\n",
        "            for chain_detail in chains_info:\n",
        "                try:\n",
        "                    chain, range_ = chain_detail.strip().split(\"=\")\n",
        "                    chain = chain.split(\"/\")[0]\n",
        "                    start, end = range_.split(\"-\")\n",
        "                    aa_count = int(end) - int(start) + 1\n",
        "                    chain_details.append((chain, aa_count))\n",
        "                except ValueError:\n",
        "                    print(\n",
        "                        f\"Skipping chain detail due to unexpected format: {chain_detail}\"\n",
        "                    )\n",
        "        return chain_details\n",
        "\n",
        "    def select_best_pdb(self, pdbs):\n",
        "        \"\"\"Select the best PDB entry based on chain length and resolution.\"\"\"\n",
        "        if not pdbs:\n",
        "            return None\n",
        "        pdbs.sort(key=lambda x: (-x[2], x[3]))\n",
        "        return pdbs[0]\n",
        "\n",
        "    def process_uniprot_id(self):\n",
        "        \"\"\"Process UniProt ID, fetch PDB data, and select the best PDB entry.\"\"\"\n",
        "        xml_data = self.fetch_uniprot_data()\n",
        "        if xml_data:\n",
        "            pdbs = self.parse_pdb_entries(xml_data)\n",
        "            if pdbs:\n",
        "                return self.select_best_pdb(pdbs)\n",
        "        return None\n",
        "\n",
        "    def calculate_centroid(self, structure):\n",
        "        \"\"\"Calculate the centroid of a PDB structure.\"\"\"\n",
        "        atom_coords = [atom.get_coord() for atom in structure.get_atoms()]\n",
        "        return np.mean(atom_coords, axis=0)\n",
        "\n",
        "    def make_pdb(\n",
        "        self, pdb_path, chain_letters, base_dir=None, overwrite=True, struct=None\n",
        "    ):\n",
        "        \"\"\"Extract a specific chain from a PDB file and save it to a temporary directory.\"\"\"\n",
        "        self.parser = PDB.PDBParser()\n",
        "        self.writer = PDB.PDBIO()\n",
        "        self.base_dir = base_dir if base_dir else self.directory\n",
        "        if isinstance(chain_letters, str):\n",
        "            chain_letters = [chain_letters]  # Ensure it's iterable\n",
        "\n",
        "        out_name = f\"{self.pdb_id}_{''.join(chain_letters)}.ent\"\n",
        "        out_path = os.path.join(\n",
        "            self.base_dir, \"pdbs\", out_name\n",
        "        )  # Temporary outputs to directory/pdbs\n",
        "\n",
        "        if not overwrite and os.path.exists(out_path):\n",
        "            print(\n",
        "                f\"Chain {','.join(chain_letters)} of '{self.pdb_id}' already extracted to '{out_name}'.\"\n",
        "            )\n",
        "            return out_path\n",
        "\n",
        "        print(f\"Extracting chain {','.join(chain_letters)} from {self.pdb_id}...\")\n",
        "        if struct is None:\n",
        "            struct = self.parser.get_structure(self.pdb_id, pdb_path)\n",
        "\n",
        "        self.writer.set_structure(struct)\n",
        "        self.writer.save(out_path, select=SelectChains(chain_letters))\n",
        "        print(\"Other chain removed ...\")\n",
        "\n",
        "        pdb = self.parser.get_structure(self.pdb_id, out_path)\n",
        "        io = PDB.PDBIO()\n",
        "        io.set_structure(pdb)\n",
        "        clean_path = os.path.join(\n",
        "            self.CLEAN_PDBS_PATH,\n",
        "            f\"receptor_{self.pdb_id}_{''.join(chain_letters)}-cl.pdb\",\n",
        "        )  # Final output to CLEAN_PDBS_PATH\n",
        "        io.save(clean_path)\n",
        "\n",
        "        struct = self.parser.get_structure(self.pdb_id, clean_path)\n",
        "        centroid = self.calculate_centroid(struct)\n",
        "        centroid_info = f\"REMARK Centroid X: {centroid[0]:.3f} Y: {centroid[1]:.3f} Z: {centroid[2]:.3f}\\n\"  # add centroid to PDB file\n",
        "\n",
        "        with open(clean_path, \"r+\") as file:\n",
        "            content = file.readlines()\n",
        "            content.insert(0, centroid_info)\n",
        "            file.seek(0)\n",
        "            file.writelines(content)\n",
        "\n",
        "        print(\"Het atoms removed and centroid added...\")\n",
        "        return clean_path, self.CLEAN_PDBS_PATH, centroid\n",
        "\n",
        "    def pdbfixer(self, clean_path, CLEAN_PDBS_PATH, centroid):\n",
        "        \"\"\"Use PDBFixer to fix missing atoms and residues in a PDB file.\"\"\"\n",
        "        fixer = PDBFixer(filename=clean_path)\n",
        "        fixer.findMissingResidues()\n",
        "        fixer.findNonstandardResidues()\n",
        "        fixer.replaceNonstandardResidues()\n",
        "        fixer.removeHeterogens(False)\n",
        "        fixer.findMissingAtoms()\n",
        "        fixer.addMissingAtoms()\n",
        "        fixed_path = os.path.join(\n",
        "            CLEAN_PDBS_PATH, f\"{os.path.basename(clean_path).split('.')[0]}-fixed.pdb\"\n",
        "        )\n",
        "        PDBFile.writeFile(fixer.topology, fixer.positions, open(fixed_path, \"w\"))\n",
        "\n",
        "        centroid_info = f\"REMARK Centroid X: {centroid[0]:.3f} Y: {centroid[1]:.3f} Z: {centroid[2]:.3f}\\n\"\n",
        "        with open(fixed_path, \"r+\") as file:\n",
        "            content = file.readlines()\n",
        "            content.insert(0, centroid_info)\n",
        "            file.seek(0)\n",
        "            file.writelines(content)\n",
        "\n",
        "        print(f\"PDB file fixed in {fixed_path}\")\n",
        "\n",
        "    def get_pdb_from_uniprot(self):\n",
        "        pdb_data = self.process_uniprot_id()\n",
        "        if not pdb_data:\n",
        "            print(\"Skipping entry because of missing PDB data.\")\n",
        "            return None, None\n",
        "\n",
        "        self.pdb_id, self.chain = pdb_data[:2]\n",
        "\n",
        "        if not self.pdb_id or not self.chain:\n",
        "            print(\"Skipping entry because of missing PDB ID or Chain.\")\n",
        "            return None, None\n",
        "        else:\n",
        "            print(f\"Processing PDB ID {self.pdb_id} with chain {self.chain}...\")\n",
        "            try:\n",
        "                pdb_fn = PDB.PDBList().retrieve_pdb_file(\n",
        "                    self.pdb_id, pdir=self.PDB_DOWNLOAD_PATH, file_format=\"pdb\"\n",
        "                )\n",
        "                clean_path, CLEAN_PDBS_PATH, centroid = self.make_pdb(\n",
        "                    pdb_fn, self.chain\n",
        "                )\n",
        "                self.pdbfixer(clean_path, self.CLEAN_PDBS_PATH, centroid)\n",
        "                return self.pdb_id, self.chain\n",
        "            except Exception as e:\n",
        "                print(\n",
        "                    f\"Error processing PDB ID {self.pdb_id} with chain {self.chain}: {e}\"\n",
        "                )\n",
        "                return None, None\n",
        "\n",
        "    def get_pdb_from_PDB(self):\n",
        "        if not self.pdb_id or not self.chain:\n",
        "            print(\"Skipping entry because no PDB or chain was enterd.\")\n",
        "            return None, None\n",
        "        else:\n",
        "            print(f\"Processing PDB ID {self.pdb_id} with chain {self.chain}...\")\n",
        "            try:\n",
        "                pdb_fn = PDB.PDBList().retrieve_pdb_file(\n",
        "                    self.pdb_id, pdir=self.PDB_DOWNLOAD_PATH, file_format=\"pdb\"\n",
        "                )\n",
        "                clean_path, CLEAN_PDBS_PATH, centroid = self.make_pdb(\n",
        "                    pdb_fn, self.chain\n",
        "                )\n",
        "                self.pdbfixer(clean_path, self.CLEAN_PDBS_PATH, centroid)\n",
        "                return self.pdb_id, self.chain\n",
        "            except Exception as e:\n",
        "                print(\n",
        "                    f\"Error processing PDB ID {self.pdb_id} with chain {self.chain}: {e}\"\n",
        "                )\n",
        "                return None, None\n",
        "\n",
        "\n",
        "# Check which identifier is provided and activate the corresponding method\n",
        "if uniprot:  # If a UniProt ID is provided\n",
        "    get_pdb_instance = GetPDB(directory=protein_folder, uniprot_id=uniprot)\n",
        "    PDB_ID, chain = get_pdb_instance.get_pdb_from_uniprot()\n",
        "elif PDB_ID:  # If a PDB ID is provided\n",
        "    get_pdb_instance = GetPDB(directory=protein_folder, pdb_id=PDB_ID, chain=chain_in_PDB)\n",
        "    PDB_ID, chain = get_pdb_instance.get_pdb_from_PDB()\n",
        "else:\n",
        "    raise ValueError(\"Either a UniProt ID or a PDB ID must be provided.\")\n"
      ]
    },
    {
      "cell_type": "markdown",
      "metadata": {
        "id": "T0HzThy2XEXd"
      },
      "source": [
        "---\n",
        "---\n",
        "# **Preparing the Ligand with easydock**\n",
        "We now need to prepare the ligand that will be used for docking analysis. We will attempt to predict the docking pose onto the binding of target protein.\n"
      ]
    },
    {
      "cell_type": "code",
      "execution_count": null,
      "metadata": {
        "colab": {
          "base_uri": "https://localhost:8080/"
        },
        "id": "tFRC7Kdg7rsb",
        "outputId": "bc375ce7-7b3e-4baf-f4fb-7efb3d9deceb"
      },
      "outputs": [
        {
          "output_type": "stream",
          "name": "stderr",
          "text": [
            "[query.py:297 - calculate_microstate_pka_values()] Using dimorphite-dl to identify protonation sites.\n",
            "/usr/local/lib/python3.10/site-packages/pkasolver/query.py:121: DeprecationWarning: Conversion of an array with ndim > 0 to a scalar is deprecated, and will error in future. Ensure you extract a single element from your array before performing this operation. (Deprecated NumPy 1.25.)\n",
            "  float(np.average(consensus_r, axis=0)),\n",
            "/usr/local/lib/python3.10/site-packages/pkasolver/query.py:122: DeprecationWarning: Conversion of an array with ndim > 0 to a scalar is deprecated, and will error in future. Ensure you extract a single element from your array before performing this operation. (Deprecated NumPy 1.25.)\n",
            "  float(np.std(consensus_r, axis=0)),\n",
            "[query.py:297 - calculate_microstate_pka_values()] Using dimorphite-dl to identify protonation sites.\n",
            "/usr/local/lib/python3.10/site-packages/pkasolver/query.py:121: DeprecationWarning: Conversion of an array with ndim > 0 to a scalar is deprecated, and will error in future. Ensure you extract a single element from your array before performing this operation. (Deprecated NumPy 1.25.)\n",
            "  float(np.average(consensus_r, axis=0)),\n",
            "/usr/local/lib/python3.10/site-packages/pkasolver/query.py:122: DeprecationWarning: Conversion of an array with ndim > 0 to a scalar is deprecated, and will error in future. Ensure you extract a single element from your array before performing this operation. (Deprecated NumPy 1.25.)\n",
            "  float(np.std(consensus_r, axis=0)),\n",
            "[query.py:297 - calculate_microstate_pka_values()] Using dimorphite-dl to identify protonation sites.\n",
            "/usr/local/lib/python3.10/site-packages/pkasolver/query.py:121: DeprecationWarning: Conversion of an array with ndim > 0 to a scalar is deprecated, and will error in future. Ensure you extract a single element from your array before performing this operation. (Deprecated NumPy 1.25.)\n",
            "  float(np.average(consensus_r, axis=0)),\n",
            "/usr/local/lib/python3.10/site-packages/pkasolver/query.py:122: DeprecationWarning: Conversion of an array with ndim > 0 to a scalar is deprecated, and will error in future. Ensure you extract a single element from your array before performing this operation. (Deprecated NumPy 1.25.)\n",
            "  float(np.std(consensus_r, axis=0)),\n"
          ]
        }
      ],
      "source": [
        "# @title protonation loop\n",
        "# Create temporary files with proper extensions\n",
        "tmp_input_path = tempfile.NamedTemporaryFile(suffix=\".smi\", delete=False).name\n",
        "tmp_output_path = tempfile.NamedTemporaryFile(suffix=\".smi\", delete=False).name\n",
        "\n",
        "protonated_smiles = []\n",
        "for ligand in ligand_smiles:\n",
        "    # Write SMILES to input file\n",
        "    with open(tmp_input_path, \"w\") as tmp_input:\n",
        "        tmp_input.write(ligand + \"\\n\")  # Ensure correct format for SMILES\n",
        "\n",
        "    # Protonate using PKASolver\n",
        "    protonation.protonate_pkasolver(tmp_input_path, tmp_output_path)\n",
        "\n",
        "    # Read protonated molecule from output file\n",
        "    with open(tmp_output_path, \"r\") as tmp_output:\n",
        "        protonated_smile = tmp_output.read().strip()\n",
        "        protonated_smiles.append(protonated_smile)"
      ]
    },
    {
      "cell_type": "code",
      "source": [
        "print(protonated_smiles)"
      ],
      "metadata": {
        "colab": {
          "base_uri": "https://localhost:8080/"
        },
        "id": "MRGtbeICY12x",
        "outputId": "11b4e2d3-a88d-4960-e0ef-8dc3b09f8e83"
      },
      "execution_count": null,
      "outputs": [
        {
          "output_type": "stream",
          "name": "stdout",
          "text": [
            "['CC(ON(C(C)(C)C)C(C)(C)C)c1ccc([N]C(=O)[C@@H]([N])Cc2ccccc2)cc1\\tCC(ON(C(C)(C)C)C(C)(C)C)c1ccc([N]C(=O)[C@@H]([N])Cc2ccccc2)cc1', 'CC(ON(C(C)(C)C)C(C)(C)C)c1ccc([N]C(=O)OC(C)(C)C)cc1\\tCC(ON(C(C)(C)C)C(C)(C)C)c1ccc([N]C(=O)OC(C)(C)C)cc1', 'CC(ON(C(C)(C)C)C(C)(C)C)c1ccc([N]C(=O)[C@H](Cc2ccccc2)[N]C(=O)OC(C)(C)C)cc1\\tCC(ON(C(C)(C)C)C(C)(C)C)c1ccc([N]C(=O)[C@H](Cc2ccccc2)[N]C(=O)OC(C)(C)C)cc1']\n"
          ]
        },
        {
          "output_type": "stream",
          "name": "stderr",
          "text": [
            "/usr/local/lib/python3.10/dist-packages/ipykernel/ipkernel.py:283: DeprecationWarning: `should_run_async` will not call `transform_cell` automatically in the future. Please pass the result to `transformed_cell` argument and any exception that happen during thetransform in `preprocessing_exc_tuple` in IPython 7.17 and above.\n",
            "  and should_run_async(code)\n"
          ]
        }
      ]
    },
    {
      "cell_type": "markdown",
      "metadata": {
        "id": "YTMwPwKg4drC"
      },
      "source": [
        "---\n",
        "---\n",
        "# **Setting Up Molecular Docking**\n",
        "MGLTools is needed for preparing molecules before docking.\n"
      ]
    },
    {
      "cell_type": "code",
      "execution_count": null,
      "metadata": {
        "colab": {
          "base_uri": "https://localhost:8080/"
        },
        "id": "VhOwA0kL6FZJ",
        "outputId": "3b255783-c29c-491d-c62f-0f30c1b66466"
      },
      "outputs": [
        {
          "output_type": "stream",
          "name": "stdout",
          "text": [
            "Channels:\n",
            " - conda-forge\n",
            " - bioconda\n",
            "Platform: linux-64\n",
            "Collecting package metadata (repodata.json): - \b\b\\ \b\b| \b\b/ \b\b- \b\b\\ \b\b| \b\b/ \b\b- \b\b\\ \b\b| \b\b/ \b\b- \b\b\\ \b\b| \b\b/ \b\b- \b\b\\ \b\b| \b\b/ \b\b- \b\b\\ \b\b| \b\b/ \b\b- \b\b\\ \b\b| \b\b/ \b\b- \b\b\\ \b\b| \b\b/ \b\b- \b\b\\ \b\b| \b\b/ \b\b- \b\b\\ \b\b| \b\b/ \b\b- \b\b\\ \b\b| \b\b/ \b\b- \b\b\\ \b\b| \b\b/ \b\b- \b\b\\ \b\b| \b\b/ \b\b- \b\b\\ \b\b| \b\b/ \b\b- \b\b\\ \b\b| \b\b/ \b\b- \b\b\\ \b\b| \b\b/ \b\b- \b\b\\ \b\b| \b\b/ \b\b- \b\b\\ \b\b| \b\b/ \b\b- \b\b\\ \b\b| \b\b/ \b\b- \b\b\\ \b\b| \b\b/ \b\b- \b\b\\ \b\b| \b\b/ \b\b- \b\b\\ \b\b| \b\b/ \b\b- \b\b\\ \b\b| \b\b/ \b\b- \b\b\\ \b\b| \b\b/ \b\b- \b\b\\ \b\b| \b\b/ \b\b- \b\b\\ \b\b| \b\b/ \b\b- \b\b\\ \b\b| \b\b/ \b\b- \b\b\\ \b\b| \b\b/ \b\b- \b\b\\ \b\b| \b\b/ \b\b- \b\b\\ \b\b| \b\b/ \b\b- \b\b\\ \b\b| \b\b/ \b\b- \b\b\\ \b\b| \b\b/ \b\b- \b\b\\ \b\b| \b\b/ \b\b- \b\b\\ \b\b| \b\b/ \b\b- \b\b\\ \b\b| \b\b/ \b\b- \b\b\\ \b\b| \b\b/ \b\b- \b\b\\ \b\b| \b\b/ \b\b- \b\b\\ \b\b| \b\b/ \b\b- \b\b\\ \b\b| \b\b/ \b\b- \b\b\\ \b\b| \b\b/ \b\b- \b\b\\ \b\b| \b\b/ \b\b- \b\b\\ \b\b| \b\b/ \b\b- \b\b\\ \b\b| \b\b/ \b\b- \b\b\\ \b\b| \b\b/ \b\b- \b\b\\ \b\b| \b\b/ \b\b- \b\b\\ \b\b| \b\b/ \b\b- \b\b\\ \b\b| \b\b/ \b\b- \b\b\\ \b\b| \b\b/ \b\b- \b\b\\ \b\b| \b\b/ \b\b- \b\b\\ \b\b| \b\b/ \b\b- \b\b\\ \b\b| \b\b/ \b\b- \b\b\\ \b\b| \b\b/ \b\b- \b\b\\ \b\b| \b\b/ \b\b- \b\b\\ \b\b| \b\b/ \b\b- \b\b\\ \b\b| \b\b/ \b\b- \b\b\\ \b\b| \b\b/ \b\b- \b\b\\ \b\b| \b\b/ \b\b- \b\b\\ \b\b| \b\b/ \b\b- \b\b\\ \b\b| \b\b/ \b\b- \b\b\\ \b\b| \b\b/ \b\b- \b\b\\ \b\b| \b\b/ \b\b- \b\b\\ \b\b| \b\b/ \b\b- \b\b\\ \b\b| \b\b/ \b\b- \b\b\\ \b\b| \b\b/ \b\b- \b\b\\ \b\b| \b\b/ \b\b- \b\b\\ \b\b| \b\b/ \b\b- \b\b\\ \b\b| \b\b/ \b\b- \b\b\\ \b\b| \b\b/ \b\b- \b\b\\ \b\b| \b\b/ \b\b- \b\b\\ \b\b| \b\b/ \b\b- \b\b\\ \b\b| \b\b/ \b\b- \b\b\\ \b\b| \b\b/ \b\b- \b\b\\ \b\b| \b\b/ \b\b- \b\b\\ \b\b| \b\b/ \b\b- \b\b\\ \b\b| \b\b/ \b\b- \b\b\\ \b\b| \b\b/ \b\b- \b\b\\ \b\b| \b\b/ \b\b- \b\b\\ \b\b| \b\b/ \b\b- \b\b\\ \b\b| \b\b/ \b\b- \b\b\\ \b\b| \b\b/ \b\b- \b\b\\ \b\b| \b\b/ \b\b- \b\b\\ \b\b| \b\b/ \b\b- \b\b\\ \b\b| \b\b/ \b\b- \b\b\\ \b\b| \b\b/ \b\b- \b\b\\ \b\b| \b\b/ \b\b- \b\b\\ \b\b| \b\b/ \b\b- \b\b\\ \b\b| \b\b/ \b\b- \b\b\\ \b\b| \b\b/ \b\b- \b\b\\ \b\b| \b\b/ \b\b- \b\b\\ \b\b| \b\b/ \b\b- \b\b\\ \b\b| \b\b/ \b\b- \b\b\\ \b\b| \b\b/ \b\b- \b\b\\ \b\b| \b\b/ \b\b- \b\b\\ \b\b| \b\b/ \b\b- \b\b\\ \b\b| \b\b/ \b\b- \b\b\\ \b\b| \b\b/ \b\b- \b\b\\ \b\b| \b\b/ \b\b- \b\b\\ \b\b| \b\b/ \b\b- \b\b\\ \b\b| \b\b/ \b\b- \b\b\\ \b\b| \b\bdone\n",
            "Solving environment: - \b\b\\ \b\b| \b\b/ \b\b- \b\b\\ \b\bdone\n",
            "\n",
            "\n",
            "==> WARNING: A newer version of conda exists. <==\n",
            "    current version: 23.11.0\n",
            "    latest version: 24.11.2\n",
            "\n",
            "Please update conda by running\n",
            "\n",
            "    $ conda update -n base -c conda-forge conda\n",
            "\n",
            "\n",
            "\n",
            "## Package Plan ##\n",
            "\n",
            "  environment location: /usr/local\n",
            "\n",
            "  added / updated specs:\n",
            "    - bioconda::mgltools\n",
            "\n",
            "\n",
            "The following packages will be downloaded:\n",
            "\n",
            "    package                    |            build\n",
            "    ---------------------------|-----------------\n",
            "    mgltools-1.5.7             |       h9ee0642_1       107.0 MB  bioconda\n",
            "    ------------------------------------------------------------\n",
            "                                           Total:       107.0 MB\n",
            "\n",
            "The following NEW packages will be INSTALLED:\n",
            "\n",
            "  mgltools           bioconda/linux-64::mgltools-1.5.7-h9ee0642_1 \n",
            "\n",
            "\n",
            "\n",
            "Downloading and Extracting Packages:\n",
            "                                                                        \n",
            "Preparing transaction: / \b\b- \b\b\\ \b\b| \b\bdone\n",
            "Verifying transaction: - \b\b\\ \b\b| \b\b/ \b\b- \b\b\\ \b\b| \b\b/ \b\b- \b\b\\ \b\b| \b\bdone\n",
            "Executing transaction: - \b\b\\ \b\b| \b\b/ \b\b- \b\b\\ \b\b| \b\b/ \b\b- \b\b\\ \b\b| \b\b/ \b\b- \b\b\\ \b\b| \b\bdone\n"
          ]
        }
      ],
      "source": [
        "!conda install bioconda::mgltools"
      ]
    },
    {
      "cell_type": "markdown",
      "metadata": {
        "id": "fv2hkzyDgWUl"
      },
      "source": [
        "---\n",
        "---\n",
        "# **Save Prepared Ligands**\n",
        "Convert ligands to PDBQT format and save SMILES as `.smi` files."
      ]
    },
    {
      "cell_type": "code",
      "execution_count": null,
      "metadata": {
        "colab": {
          "base_uri": "https://localhost:8080/"
        },
        "id": "U8ittE3E3mY4",
        "outputId": "bf6b2b69-5fe6-458f-87bb-3c824ae44525"
      },
      "outputs": [
        {
          "output_type": "stream",
          "name": "stdout",
          "text": [
            "Ligand lig_hybrid_1 saved as SMILES (.smi).\n",
            "warning: found the maximum nr of matches (17) in RDKitMolSetup.get_symmetries_for_rmsd\n",
            "Maybe this molecule is \"too\" symmetric?  CC(ON(C(C)(C)C)C(C)(C)C)c1ccc([N]C(=O)[C@@H]([N])Cc2ccccc2)cc1\n",
            "Ligand lig_hybrid_1 saved as PDBQT.\n",
            "Ligand lig_hybrid_2 saved as SMILES (.smi).\n",
            "warning: found the maximum nr of matches (17) in RDKitMolSetup.get_symmetries_for_rmsd\n",
            "Maybe this molecule is \"too\" symmetric?  CC(ON(C(C)(C)C)C(C)(C)C)c1ccc([N]C(=O)OC(C)(C)C)cc1\n",
            "Ligand lig_hybrid_2 saved as PDBQT.\n",
            "Ligand lig_hybrid_3 saved as SMILES (.smi).\n",
            "warning: found the maximum nr of matches (17) in RDKitMolSetup.get_symmetries_for_rmsd\n",
            "Maybe this molecule is \"too\" symmetric?  CC(ON(C(C)(C)C)C(C)(C)C)c1ccc([N]C(=O)[C@H](Cc2ccccc2)[N]C(=O)OC(C)(C)C)cc1\n",
            "Ligand lig_hybrid_3 saved as PDBQT.\n",
            "> Finished processing all ligands.\n"
          ]
        }
      ],
      "source": [
        "from rdkit import Chem\n",
        "\n",
        "# Monkey-patch the Mol class\n",
        "def has_query(self):\n",
        "    return False\n",
        "\n",
        "Chem.Mol.HasQuery = has_query  # Add HasQuery method to all Mol objects\n",
        "\n",
        "for idx, smile in enumerate(protonated_smiles, start=1):\n",
        "    smile = smile.split(\"\\t\")[0].strip()\n",
        "    ligand_name = f\"lig_hybrid_{idx}\"\n",
        "\n",
        "    # Save the ligand in .smi format\n",
        "    ligand_smi_path = os.path.join(ligand_folder, f\"{ligand_name}.smi\")\n",
        "    with open(ligand_smi_path, \"w\") as file:\n",
        "        file.write(smile)\n",
        "\n",
        "    print(f\"Ligand {ligand_name} saved as SMILES (.smi).\")\n",
        "\n",
        "    # Prepare the PDBQT file for docking\n",
        "    ligand_pdbqt = f\"{ligand_name}.pdbqt\"\n",
        "    ligand_pdbqt_path = os.path.join(docking_folder, ligand_pdbqt)\n",
        "\n",
        "    # Prepare the molecule and ligand for docking\n",
        "    protonated_mol = preparation_for_docking.mol_from_smi_or_molblock(smile)\n",
        "    prepared_ligand = preparation_for_docking.ligand_preparation(protonated_mol)\n",
        "\n",
        "    # Write the prepared ligand to the PDBQT file\n",
        "    with open(ligand_pdbqt_path, \"w\") as file:\n",
        "        file.write(prepared_ligand)\n",
        "\n",
        "    print(f\"Ligand {ligand_name} saved as PDBQT.\")\n",
        "\n",
        "print(\"> Finished processing all ligands.\")\n"
      ]
    },
    {
      "cell_type": "markdown",
      "metadata": {
        "id": "b8UjJXkciXWI"
      },
      "source": [
        "---\n",
        "---\n",
        "# **Save Prepared Receptor**\n",
        "This cell will do the last modifications, such as adding polar hydrogens to the structure, and saves it as a `.pdbqt` file."
      ]
    },
    {
      "cell_type": "code",
      "execution_count": null,
      "metadata": {
        "id": "PvnJOFoW7chd",
        "colab": {
          "base_uri": "https://localhost:8080/"
        },
        "outputId": "272cde9a-f400-4487-f933-33dc86b7603a"
      },
      "outputs": [
        {
          "output_type": "stream",
          "name": "stdout",
          "text": [
            "> receptor_3QVC_A-cl-fixed.pdbqt successfully created in /content/q9y006_docking/docking\n"
          ]
        }
      ],
      "source": [
        "# Define the target protein files and paths based on PDB ID and chain\n",
        "target_protein = f\"receptor_{PDB_ID}_{chain[0]}-cl-fixed.pdb\"\n",
        "protein_base = os.path.splitext(target_protein)[0]\n",
        "\n",
        "# Define file paths for PDB and PDBQT formats\n",
        "protein_pdb = protein_base + \".pdb\"\n",
        "protein_pdbqt = protein_base + \".pdbqt\"\n",
        "\n",
        "protein_pdb_path = os.path.join(protein_folder, protein_pdb)\n",
        "protein_pdb_docking_path = os.path.join(docking_folder, protein_pdb)\n",
        "protein_pdbqt_docking_path = os.path.join(docking_folder, protein_pdbqt)\n",
        "\n",
        "# Add polar hydrogens and parameterize using MGLTools\n",
        "prepare_command = f\"prepare_receptor4.py -r {protein_pdb_path} -o {protein_pdbqt_docking_path} -A checkhydrogens -U nphs\"\n",
        "os.system(prepare_command)\n",
        "\n",
        "# Copy the PDB file to the docking folder for later use\n",
        "shutil.copy(protein_pdb_path, docking_folder)\n",
        "\n",
        "# Print success message\n",
        "print(f\"> {protein_pdbqt} successfully created in {docking_folder}\")"
      ]
    },
    {
      "cell_type": "markdown",
      "metadata": {
        "id": "z4mSet7amqgE"
      },
      "source": [
        "---\n",
        "---\n",
        "# **Grid Box Generation**\n",
        "It is necessary to define search space that calculates interactions between different poses of ligand and receptor. This three-dimensional space is called grid box. The grid box is usually centered within the binding, active or allosteric site of target protein and its size should be sufficiently enough such that important binding residues are contained inside the box.\n",
        "**Default centroid is calculated at the center of the receptor chain.**"
      ]
    },
    {
      "cell_type": "code",
      "execution_count": null,
      "metadata": {
        "id": "D7RNkDFOR3h2",
        "colab": {
          "base_uri": "https://localhost:8080/"
        },
        "outputId": "85e838b0-6927-40a7-cef5-d50da199aaed"
      },
      "outputs": [
        {
          "output_type": "stream",
          "name": "stdout",
          "text": [
            "Centroid extracted: X=-8.942, Y=3.821, Z=-21.626\n"
          ]
        }
      ],
      "source": [
        "def extract_centroid_from_pdb(pdb_filepath):\n",
        "    \"\"\"\n",
        "    Extracts the centroid coordinates from a PDB file. The centroid is indicated\n",
        "    by a line starting with 'REMARK Centroid' in the PDB file.\n",
        "\n",
        "    Parameters:\n",
        "    - pdb_filepath (str): The path to the PDB file.\n",
        "\n",
        "    Returns:\n",
        "    - tuple: A tuple (x, y, z) representing the centroid coordinates if found.\n",
        "    - None: If no centroid line is found.\n",
        "    \"\"\"\n",
        "    with open(pdb_filepath, \"r\") as pdb_file:\n",
        "        for line in pdb_file:\n",
        "            if line.startswith(\"REMARK Centroid\"):\n",
        "                parts = line.split()\n",
        "                try:\n",
        "                    x, y, z = float(parts[3]), float(parts[5]), float(parts[7])\n",
        "                    return x, y, z\n",
        "                except (ValueError, IndexError):\n",
        "                    print(f\"Error parsing centroid coordinates from line: {line}\")\n",
        "                    return None\n",
        "    return None  # In case no centroid line is found\n",
        "\n",
        "\n",
        "# Example usage\n",
        "centroid_coords = extract_centroid_from_pdb(protein_pdb_path)\n",
        "if centroid_coords:\n",
        "    X, Y, Z = centroid_coords\n",
        "    print(f\"Centroid extracted: X={X}, Y={Y}, Z={Z}\")\n",
        "else:\n",
        "    print(\"Centroid not found in the PDB file.\")"
      ]
    },
    {
      "cell_type": "code",
      "execution_count": null,
      "metadata": {
        "id": "2xz1SjekcTfw",
        "colab": {
          "base_uri": "https://localhost:8080/"
        },
        "outputId": "febcf345-7083-4d2b-be48-32216f5feb7d"
      },
      "outputs": [
        {
          "output_type": "stream",
          "name": "stdout",
          "text": [
            "> config_file.txt successfully created in /content/q9y006_docking/docking\n"
          ]
        }
      ],
      "source": [
        "# @title Create docking configuration file\n",
        "def create_config_file(\n",
        "    docking_folder,\n",
        "    protein_name,\n",
        "    center_coords,\n",
        "    box_dimensions,\n",
        "    config_filename=\"config_file.txt\",\n",
        "):\n",
        "    \"\"\"\n",
        "    Creates an AutoDock Vina configuration file for docking.\n",
        "\n",
        "    Parameters:\n",
        "    - docking_folder (str): Directory where the config file will be saved.\n",
        "    - protein_name (str): Name of the receptor protein file (with extension).\n",
        "    - center_coords (tuple): Coordinates (X, Y, Z) for the docking box center.\n",
        "    - box_dimensions (tuple): Dimensions (WIDTH, HEIGHT, LENGTH) for the docking box.\n",
        "    - config_filename (str): Name of the configuration file to be created (default: \"config_file.txt\").\n",
        "\n",
        "    Returns:\n",
        "    - config_filepath (str): The path to the created config file.\n",
        "    \"\"\"\n",
        "    # Unpack the coordinates and dimensions\n",
        "    center_x, center_y, center_z = map(int, center_coords)\n",
        "    size_x, size_y, size_z = map(int, box_dimensions)\n",
        "\n",
        "    # Prepare the config file path\n",
        "    config_filepath = os.path.join(docking_folder, config_filename)\n",
        "\n",
        "    # Write the configuration to the file\n",
        "    with open(config_filepath, \"w\") as config_file:\n",
        "        config_file.write(f\"receptor = {protein_name}\\n\\n\")\n",
        "        config_file.write(f\"center_x = {center_x}\\n\")\n",
        "        config_file.write(f\"center_y = {center_y}\\n\")\n",
        "        config_file.write(f\"center_z = {center_z}\\n\\n\")\n",
        "        config_file.write(f\"size_x = {size_x}\\n\")\n",
        "        config_file.write(f\"size_y = {size_y}\\n\")\n",
        "        config_file.write(f\"size_z = {size_z}\\n\")\n",
        "\n",
        "    print(f\"> {config_filename} successfully created in {docking_folder}\")\n",
        "\n",
        "    return config_filepath\n",
        "\n",
        "\n",
        "# Example usage\n",
        "box_dimensions = (126, 126, 126)  # Default box dimensions\n",
        "\n",
        "# Create the configuration file\n",
        "config_dfile = create_config_file(\n",
        "    docking_folder, protein_pdbqt, centroid_coords, box_dimensions\n",
        ")"
      ]
    },
    {
      "cell_type": "markdown",
      "metadata": {
        "id": "TcXJ5aeAfWKU"
      },
      "source": [
        "---\n",
        "---\n",
        "# **Performing Molecular Docking**\n",
        "Autodock Vina will perform the docking stimulation. The simulation runtime varies per the number of ligands and their structure."
      ]
    },
    {
      "cell_type": "code",
      "execution_count": null,
      "metadata": {
        "id": "hvn0kZhzfjPv",
        "colab": {
          "base_uri": "https://localhost:8080/"
        },
        "outputId": "d74aeb3d-48b2-4162-8a0a-caaac3adda9b"
      },
      "outputs": [
        {
          "output_type": "stream",
          "name": "stdout",
          "text": [
            "Found ligand files: ['lig_hybrid_3.pdbqt', 'lig_hybrid_2.pdbqt', 'lig_hybrid_1.pdbqt']\n",
            "> Molecular docking number 1 completed\n",
            "> Molecular docking number 2 completed\n",
            "> Molecular docking number 3 completed\n"
          ]
        }
      ],
      "source": [
        "def execute_vina_docking(\n",
        "    docking_folder,\n",
        "    config_file,\n",
        "    cpu=4,\n",
        "    seed=-224378816,\n",
        "    exhaustiveness=2,\n",
        "    num_modes=10,\n",
        "    energy_range=3,\n",
        "):\n",
        "    \"\"\"\n",
        "    Executes AutoDock Vina for all ligand files in the docking folder.\n",
        "\n",
        "    Parameters:\n",
        "    - docking_folder (str): Directory containing ligand PDBQT files.\n",
        "    - config_file (str): Path to the AutoDock Vina configuration file.\n",
        "    - cpu (int): Number of CPU cores to use (default=4).\n",
        "    - seed (int): Random seed for reproducibility (default=-224378816).\n",
        "    - exhaustiveness (int): Vina exhaustiveness level (default=32).\n",
        "    - num_modes (int): Number of output docking modes (default=10).\n",
        "    - energy_range (int): Energy range for considering docking modes (default=3).\n",
        "\n",
        "    Returns:\n",
        "    - None: Executes docking for each ligand and writes the log/output files.\n",
        "    \"\"\"\n",
        "    os.chdir(docking_folder)\n",
        "\n",
        "    # Fetch all ligand PDBQT files\n",
        "    ligand_files = [\n",
        "        file\n",
        "        for file in os.listdir()\n",
        "        if file.startswith(\"lig\") and file.endswith(\".pdbqt\")\n",
        "    ]\n",
        "    print(f\"Found ligand files: {ligand_files}\")\n",
        "\n",
        "    docking_count = 1\n",
        "    for ligand_file in ligand_files:\n",
        "        ligand_base_name = ligand_file[:-6]  # Remove '.pdbqt' to get the ligand name\n",
        "        ligand_output_pdbqt = f\"output_{ligand_base_name}_output.pdbqt\"\n",
        "        ligand_log_txt = f\"output_{ligand_base_name}_log.txt\"\n",
        "\n",
        "        ligand_output_pdbqt_path = os.path.join(docking_folder, ligand_output_pdbqt)\n",
        "        ligand_log_txt_path = os.path.join(docking_folder, ligand_log_txt)\n",
        "\n",
        "        run_vina_docking(\n",
        "            ligand_file,\n",
        "            ligand_output_pdbqt_path,\n",
        "            ligand_log_txt_path,\n",
        "            config_file,\n",
        "            cpu,\n",
        "            seed,\n",
        "            exhaustiveness,\n",
        "            num_modes,\n",
        "            energy_range,\n",
        "        )\n",
        "\n",
        "        # Clean up the log file (remove first line)\n",
        "        clean_log_file(ligand_log_txt_path)\n",
        "\n",
        "        print(f\"> Molecular docking number {docking_count} completed\")\n",
        "        docking_count += 1\n",
        "\n",
        "\n",
        "def run_vina_docking(\n",
        "    ligand_file,\n",
        "    output_pdbqt_path,\n",
        "    log_txt_path,\n",
        "    config_file,\n",
        "    cpu,\n",
        "    seed,\n",
        "    exhaustiveness,\n",
        "    num_modes,\n",
        "    energy_range,\n",
        "):\n",
        "    \"\"\"\n",
        "    Runs AutoDock Vina docking for a single ligand and writes the output to files.\n",
        "\n",
        "    Parameters:\n",
        "    - ligand_file (str): Path to the ligand PDBQT file.\n",
        "    - output_pdbqt_path (str): Path to save the docking output PDBQT.\n",
        "    - log_txt_path (str): Path to save the docking log.\n",
        "    - config_file (str): Path to the AutoDock Vina configuration file.\n",
        "    - cpu (int): Number of CPU cores to use.\n",
        "    - seed (int): Random seed for reproducibility.\n",
        "    - exhaustiveness (int): Vina exhaustiveness level.\n",
        "    - num_modes (int): Number of output docking modes.\n",
        "    - energy_range (int): Energy range for considering docking modes.\n",
        "\n",
        "    Returns:\n",
        "    - None: Executes Vina and writes output files.\n",
        "    \"\"\"\n",
        "    with open(log_txt_path, \"w\") as log_file:\n",
        "        with contextlib.redirect_stdout(log_file):\n",
        "            %vina --config $config_file --ligand $ligand_file --out $output_pdbqt_path --cpu $cpu --seed $seed --exhaustiveness $exhaustiveness --num_modes $num_modes --energy_range $energy_range\n",
        "\n",
        "\n",
        "def clean_log_file(log_file_path):\n",
        "    \"\"\"\n",
        "    Cleans up the log file by removing the first line.\n",
        "\n",
        "    Parameters:\n",
        "    - log_file_path (str): Path to the log file to clean.\n",
        "\n",
        "    Returns:\n",
        "    - None: Removes the first line in the log file.\n",
        "    \"\"\"\n",
        "    with open(log_file_path, \"r\") as log_file:\n",
        "        lines = log_file.readlines()\n",
        "\n",
        "    with open(log_file_path, \"w\") as log_file:\n",
        "        log_file.writelines(lines[1:])\n",
        "\n",
        "\n",
        "# Example usage\n",
        "execute_vina_docking(docking_folder, config_dfile)\n"
      ]
    },
    {
      "cell_type": "markdown",
      "metadata": {
        "id": "Zmh5bB4eVweF"
      },
      "source": [
        "---\n",
        "---\n",
        "# **Molecular Descriptors**\n",
        "This cell calculates various molecular descriptors using the RDKit module. These descriptors provide insights into the chemical properties of molecules and their potential drug-likeness."
      ]
    },
    {
      "cell_type": "code",
      "execution_count": null,
      "metadata": {
        "id": "-PG_c8yBxwuv"
      },
      "outputs": [],
      "source": [
        "from rdkit.Chem.rdMolDescriptors import CalcExactMolWt, CalcTPSA\n",
        "from rdkit.Chem import QED\n",
        "\n",
        "def extract_smiles_from_pdbqt(file_path):\n",
        "    \"\"\"\n",
        "    Extracts the SMILES string from a PDBQT file.\n",
        "\n",
        "    Parameters:\n",
        "    - file_path (str): Path to the PDBQT file.\n",
        "\n",
        "    Returns:\n",
        "    - smiles (str): Extracted SMILES string, or None if not found.\n",
        "    \"\"\"\n",
        "    with open(file_path, \"r\") as file:\n",
        "        for line in file:\n",
        "            if line.startswith(\"REMARK SMILES\"):\n",
        "                parts = line.split()\n",
        "                if len(parts) > 2:  # Ensure SMILES exists\n",
        "                    return parts[2]\n",
        "    return None\n",
        "\n",
        "def calculate_lipinski_descriptors(smiles):\n",
        "    \"\"\"\n",
        "    Calculates Lipinski descriptors and Lipinski score for a given SMILES string.\n",
        "\n",
        "    Parameters:\n",
        "    - smiles (str): SMILES string of the molecule.\n",
        "\n",
        "    Returns:\n",
        "    - lipinski_score (int): Lipinski rule score.\n",
        "    - exact_mw (float): Exact molecular weight.\n",
        "    - logp (float): LogP value (lipophilicity).\n",
        "    - hbd (int): Number of hydrogen bond donors.\n",
        "    - hba (int): Number of hydrogen bond acceptors.\n",
        "    - tpsa (float): Topological Polar Surface Area (TPSA).\n",
        "    - qed (float): Quantitative Estimate of Drug-likeness (QED).\n",
        "    \"\"\"\n",
        "    mol = Chem.MolFromSmiles(smiles)\n",
        "    if mol is None:\n",
        "        return None, None, None, None, None, None, None  # Handle invalid SMILES\n",
        "\n",
        "    # Lipinski descriptors\n",
        "    exact_mw = CalcExactMolWt(mol)\n",
        "    logp, _ = CalcCrippenDescriptors(mol)\n",
        "    hbd = CalcNumLipinskiHBD(mol)\n",
        "    hba = CalcNumLipinskiHBA(mol)\n",
        "\n",
        "    # Lipinski rule violations\n",
        "    lipinski_violations = sum(\n",
        "        [1 for condition in [exact_mw > 500, logp > 5, hbd > 5, hba > 10] if condition]\n",
        "    )\n",
        "\n",
        "    # Calculate Lipinski score (4 rules - violations)\n",
        "    lipinski_score = 4 - lipinski_violations\n",
        "\n",
        "    # Additional descriptors\n",
        "    qed = QED.qed(mol)\n",
        "    tpsa = CalcTPSA(mol)\n",
        "\n",
        "\n",
        "    return lipinski_score, exact_mw, logp, hbd, hba, tpsa, qed\n",
        "\n",
        "\n",
        "def process_molecular_descriptors(directory_path):\n",
        "    \"\"\"\n",
        "    Processes all PDBQT files in the directory, extracts SMILES, and calculates Lipinski descriptors.\n",
        "\n",
        "    Parameters:\n",
        "    - directory_path (str): Path to the directory containing PDBQT files.\n",
        "\n",
        "    Returns:\n",
        "    - DataFrame: DataFrame containing ligand names and their calculated descriptors.\n",
        "    \"\"\"\n",
        "    pdbqt_files = [f for f in os.listdir(directory_path) if f.endswith(\"output.pdbqt\")]\n",
        "    results = []\n",
        "\n",
        "    for file_name in pdbqt_files:\n",
        "        file_path = os.path.join(directory_path, file_name)\n",
        "        smiles = extract_smiles_from_pdbqt(file_path)\n",
        "\n",
        "        if smiles:\n",
        "            lip_score, exact_mw, logp, hbd, hba, tpsa, qed = calculate_lipinski_descriptors(smiles)\n",
        "            if lip_score is not None:\n",
        "                ligand_name = file_name.split(\"_\")[1] + file_name.split(\"_\")[3].replace(\n",
        "                    \".pdbqt\", \"\"\n",
        "                )\n",
        "                results.append(\n",
        "                    {\n",
        "                        \"ligand\": ligand_name,\n",
        "                        \"lip_score\": lip_score,\n",
        "                        \"exact_mw\": exact_mw,\n",
        "                        \"logp\": logp,\n",
        "                        \"hbd\": hbd,\n",
        "                        \"hba\": hba,\n",
        "                        \"tpsa\": tpsa,\n",
        "                        \"qed\": qed\n",
        "                    }\n",
        "                )\n",
        "\n",
        "    return pd.DataFrame(results)\n",
        "\n",
        "\n",
        "# Example usage\n",
        "lipsinki_results = process_molecular_descriptors(docking_folder)\n"
      ]
    },
    {
      "cell_type": "code",
      "execution_count": null,
      "metadata": {
        "colab": {
          "base_uri": "https://localhost:8080/"
        },
        "id": "s-TykDb5f6Dj",
        "outputId": "5ecc9eac-4ce9-476c-8bd8-fdd193d0eefe"
      },
      "outputs": [
        {
          "output_type": "stream",
          "name": "stdout",
          "text": [
            "Results saved to CSV file: /content/q9y006_docking/docking/docking_results.csv\n"
          ]
        }
      ],
      "source": [
        "# @title **saving docking results to a csv file**\n",
        "def extract_affinity_from_log(file_path):\n",
        "    \"\"\"\n",
        "    Extracts the affinity from the first docking mode in the log file.\n",
        "\n",
        "    Parameters:\n",
        "    - file_path (str): Path to the docking log file.\n",
        "\n",
        "    Returns:\n",
        "    - affinity (float): The affinity value of the first mode, or None if not found.\n",
        "    \"\"\"\n",
        "    with open(file_path, \"r\") as file:\n",
        "        for line in file:\n",
        "            if line.startswith(\n",
        "                \"   1      \"\n",
        "            ):  # Ensure exact match for the docking mode line\n",
        "                parts = line.split()\n",
        "                affinity = float(\n",
        "                    parts[1]\n",
        "                )  # Affinity is assumed to be the second element\n",
        "                return affinity\n",
        "    return None\n",
        "\n",
        "\n",
        "def write_results_to_csv(results, output_path):\n",
        "    \"\"\"\n",
        "    Writes docking results to a CSV file.\n",
        "\n",
        "    Parameters:\n",
        "    - results (list): List of dictionaries containing 'ligand' and 'affinity'.\n",
        "    - output_path (str): Path to save the CSV file.\n",
        "    \"\"\"\n",
        "    with open(output_path, \"w\", newline=\"\") as csvfile:\n",
        "        fieldnames = [\"ligand\", \"affinity\"]\n",
        "        writer = csv.DictWriter(csvfile, fieldnames=fieldnames)\n",
        "        writer.writeheader()\n",
        "        for result in results:\n",
        "            writer.writerow(result)\n",
        "\n",
        "\n",
        "def process_log_files(directory_path):\n",
        "    \"\"\"\n",
        "    Processes all docking log files in a given directory and saves the results to a CSV file.\n",
        "\n",
        "    Parameters:\n",
        "    - directory_path (str): Path to the directory containing log files.\n",
        "\n",
        "    Returns:\n",
        "    - output_csv_path (str): Path to the generated CSV file.\n",
        "    - top_affinity (float): The best affinity score found in the logs.\n",
        "    \"\"\"\n",
        "    log_files = [f for f in os.listdir(directory_path) if f.endswith(\"log.txt\")]\n",
        "    results = []\n",
        "\n",
        "    for log_file in log_files:\n",
        "        ligand = (\n",
        "            log_file.split(\"_\")[1] + log_file.split(\"_\")[3]\n",
        "        )  # Parse ligand name from the file name\n",
        "        file_path = os.path.join(directory_path, log_file)\n",
        "        affinity = extract_affinity_from_log(file_path)\n",
        "        if affinity is not None:\n",
        "            results.append({\"ligand\": ligand, \"affinity\": affinity})\n",
        "\n",
        "    # Determine the output CSV file path\n",
        "    output_csv_path = os.path.join(directory_path, \"docking_results.csv\")\n",
        "\n",
        "    # Write results to CSV\n",
        "    write_results_to_csv(results, output_csv_path)\n",
        "    print(f\"Results saved to CSV file: {output_csv_path}\")\n",
        "\n",
        "    # Return the top affinity score for further use (optional)\n",
        "    top_affinity = min(result[\"affinity\"] for result in results) if results else None\n",
        "    return top_affinity, output_csv_path\n",
        "\n",
        "\n",
        "# Example Usage\n",
        "top_score, output_csv_path = process_log_files(docking_folder)"
      ]
    },
    {
      "cell_type": "markdown",
      "metadata": {
        "id": "HT9v0o-FVweF"
      },
      "source": [
        "---\n",
        "---\n",
        "# **Saving Final Results**\n",
        "Both results of docking and molecular descriptors calculation will be used together for selecting best ligands interacting with the receptor."
      ]
    },
    {
      "cell_type": "code",
      "execution_count": null,
      "metadata": {
        "id": "Uw2R-yc2cKw1"
      },
      "outputs": [],
      "source": [
        "def load_dataframe(file_path):\n",
        "    \"\"\"Load a CSV file into a pandas DataFrame.\"\"\"\n",
        "    return pd.read_csv(file_path)\n",
        "\n",
        "\n",
        "def merge_dataframes(lipsinki_results_left, lipsinki_results_right, key_column):\n",
        "    \"\"\"Merge two DataFrames on the specified key column.\"\"\"\n",
        "    return pd.merge(lipsinki_results_left, lipsinki_results_right, on=key_column)\n",
        "\n",
        "\n",
        "def save_dataframe(lipsinki_results, output_path):\n",
        "    \"\"\"Save the DataFrame to a CSV file.\"\"\"\n",
        "    lipsinki_results.to_csv(output_path, index=False)\n",
        "\n",
        "\n",
        "def save_final_results(lipsinki_results, output_csv_path, final_output_path):\n",
        "    \"\"\"\n",
        "    Merge the existing dataframe with another dataframe from a CSV file\n",
        "    and save the final result to a new CSV file.\n",
        "    \"\"\"\n",
        "    lipsinki_results_loaded = load_dataframe(output_csv_path)\n",
        "    final_lipsinki_results = merge_dataframes(lipsinki_results, lipsinki_results_loaded, key_column=\"ligand\")\n",
        "    save_dataframe(final_lipsinki_results, final_output_path)\n",
        "\n",
        "\n",
        "# Example Usage\n",
        "final_output_path = \"/content/final_results.csv\"\n",
        "save_final_results(lipsinki_results, output_csv_path, final_output_path)"
      ]
    }
  ],
  "metadata": {
    "colab": {
      "provenance": []
    },
    "kernelspec": {
      "display_name": "Python 3",
      "name": "python3"
    },
    "language_info": {
      "name": "python"
    }
  },
  "nbformat": 4,
  "nbformat_minor": 0
}